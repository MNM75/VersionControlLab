{
 "cells": [
  {
   "cell_type": "code",
   "execution_count": null,
   "id": "2a8bf011-1eae-49b3-9c1e-f4a98e31ff0e",
   "metadata": {},
   "outputs": [],
   "source": [
    "name=input(\"Hi! What's your name?\")"
   ]
  },
  {
   "cell_type": "code",
   "execution_count": null,
   "id": "c8b0a6d7-9f6a-4d3e-8f5b-852ca5f91853",
   "metadata": {},
   "outputs": [],
   "source": []
  }
 ],
 "metadata": {
  "kernelspec": {
   "display_name": "Python 3 (ipykernel)",
   "language": "python",
   "name": "python3"
  },
  "language_info": {
   "codemirror_mode": {
    "name": "ipython",
    "version": 3
   },
   "file_extension": ".py",
   "mimetype": "text/x-python",
   "name": "python",
   "nbconvert_exporter": "python",
   "pygments_lexer": "ipython3",
   "version": "3.11.5"
  }
 },
 "nbformat": 4,
 "nbformat_minor": 5
}
