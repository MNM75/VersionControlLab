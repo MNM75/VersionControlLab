{
 "cells": [
  {
   "cell_type": "code",
   "execution_count": 7,
   "id": "2a8bf011-1eae-49b3-9c1e-f4a98e31ff0e",
   "metadata": {},
   "outputs": [
    {
     "name": "stdin",
     "output_type": "stream",
     "text": [
      "Hi! What's your name? Miko\n",
      "Nice to meet you. What's your year of birth? 2001\n"
     ]
    },
    {
     "name": "stdout",
     "output_type": "stream",
     "text": [
      "Hello Miko You are probably 23 or 24 years old.\n"
     ]
    }
   ],
   "source": [
    "name=input(\"Hi! What's your name?\")\n",
    "bday=int(input(\"Nice to meet you. What's your year of birth?\"))\n",
    "print(\"Hello\", name, \"You are probably\", 2024-bday, \"or\", 2025-bday, \"years old.\")"
   ]
  },
  {
   "cell_type": "code",
   "execution_count": null,
   "id": "7b299b25-aa84-488b-80b5-20d3f464c7f1",
   "metadata": {},
   "outputs": [],
   "source": []
  }
 ],
 "metadata": {
  "kernelspec": {
   "display_name": "Python 3 (ipykernel)",
   "language": "python",
   "name": "python3"
  },
  "language_info": {
   "codemirror_mode": {
    "name": "ipython",
    "version": 3
   },
   "file_extension": ".py",
   "mimetype": "text/x-python",
   "name": "python",
   "nbconvert_exporter": "python",
   "pygments_lexer": "ipython3",
   "version": "3.11.5"
  }
 },
 "nbformat": 4,
 "nbformat_minor": 5
}
